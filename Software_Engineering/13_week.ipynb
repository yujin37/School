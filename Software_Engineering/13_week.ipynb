{
  "nbformat": 4,
  "nbformat_minor": 0,
  "metadata": {
    "colab": {
      "provenance": []
    },
    "kernelspec": {
      "name": "python3",
      "display_name": "Python 3"
    },
    "language_info": {
      "name": "python"
    }
  },
  "cells": [
    {
      "cell_type": "code",
      "execution_count": 18,
      "metadata": {
        "colab": {
          "base_uri": "https://localhost:8080/"
        },
        "id": "Bg8qAu21LYKL",
        "outputId": "f0a3a175-4649-4b7b-a720-3432eb90d02b"
      },
      "outputs": [
        {
          "output_type": "stream",
          "name": "stdout",
          "text": [
            "5\n",
            "1,2,3,4,5\n",
            "3,4,1,2,5\n",
            "2,5,1,3,4\n",
            "1,5,2,3,4\n",
            "2,5,1,4,3\n",
            "1, 2, 3, 4, 5\n",
            "3, 4, 1, 2, 5\n",
            "2, 5, 1, 3, 4\n",
            "1, 5, 2, 3, 4\n",
            "2, 5, 1, 4, 3\n",
            "-0.23, 1.03, -2.20, 0.40, 1.07\n",
            "-0.23, 0.03, -0.20, 0.40, 0.07\n",
            "-0.23, 1.03, -3.20, 1.40, 1.07\n",
            "0.27, -0.47, 0.80, -0.60, 0.07\n",
            "0.27, -0.47, 1.80, -0.60, -0.93\n"
          ]
        }
      ],
      "source": [
        "import numpy as np\n",
        "def gauss_matrix(m, matrix): #가우스 소거법을 이용한 역행렬 구하기\n",
        "  #입력받은 행렬과 단위행렬합침\n",
        "  mix_matrix=np.concatenate((matrix, np.identity(m)),axis=1) \n",
        "  for i in range(m):\n",
        "    pivot=mix_matrix[i,i] #현재 단계 i,i는 1이 무조건 되도록\n",
        "    if pivot == 0: #계산이 불가하므로\n",
        "      return False\n",
        "    mix_matrix[i]/=pivot #이걸로 나누어주어서 저장하고\n",
        "    for j in range(m): #다른 행을 현재행에 빼주기 위한 작업\n",
        "      if i!=j:\n",
        "        ratio=mix_matrix[j,i]/mix_matrix[i,i] #그 비율을 i줄에서 j비율이 얼마나 차이나는지 구해서\n",
        "        mix_matrix[j] -= ratio*mix_matrix[i] #각 줄마다 ratio*해당 줄 i로 빼줘서 저장\n",
        "  result_matrix=mix_matrix[:,m:]\n",
        "  return result_matrix\n",
        "\n",
        "while True:\n",
        "  try:\n",
        "    m = int(input()) #m이 입력받으면 진행\n",
        "  except ValueError: #아니면 에러\n",
        "    print('m이 입력되지 않아 종료합니다')\n",
        "    m=0 #아래 m>0을 위해 추가\n",
        "  break\n",
        "matrix = []\n",
        "if m > 0: #m이 입력되면 실행\n",
        "  for i in range(m):\n",
        "    while True:\n",
        "      row = input().split(',')\n",
        "      if row[0]=='': #빈채로 엔터치면 ''로 남아 처리\n",
        "        print('아무것도 입력되지 않아 종료') \n",
        "        matrix = []\n",
        "        break#반복문 탈출\n",
        "      elif len(row) != m: #갯수만 부족하면\n",
        "        print(m, '개가 입력되지 않았습니다. 재입력 하세요.')\n",
        "        continue #다시 입력하도록\n",
        "\n",
        "      row = list(map(int, row))#갯수에 맞게 입력하면 int형에 list로 바꾸고\n",
        "      matrix.append(row) #행렬에 추가\n",
        "      break#다음줄로 넘어가도록\n",
        "    if len(matrix)==0: #matrix에 채우지 못했다는 건 빈칸으로 왔다는 의미이므로\n",
        "      break#그대로 종료하도록 for문도 탈출\n",
        "\n",
        "      \n",
        "  if len(matrix)!=m: #matrix가 m개가 아니면 패스하고\n",
        "    # 입력받은 행렬 출력\n",
        "    pass\n",
        "  else:\n",
        "    for i in range(m): #기존 행렬 출력\n",
        "      matrix_str = \", \".join(str(e) for e in matrix[i])\n",
        "      print(matrix_str)\n",
        "\n",
        "    result = gauss_matrix(m, matrix) #역행렬 호출해서 result에 결과 저장\n",
        "    if result is False: #존재하지 않으면 false 반환\n",
        "        print('역행렬이 존재하지 않음')\n",
        "    else:#false가 안들어오면 역행렬이 존재\n",
        "        for i in range(m):\n",
        "            matrix_str = \", \".join(f\"{e:.2f}\" for e in result[i]) #소수점 둘째자리까지 출력\n",
        "            print(matrix_str) #결과 출력\n"
      ]
    }
  ]
}